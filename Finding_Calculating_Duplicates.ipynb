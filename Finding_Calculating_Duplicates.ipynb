{
 "cells": [
  {
   "cell_type": "code",
   "execution_count": 1,
   "metadata": {},
   "outputs": [],
   "source": [
    "import numpy as np\n",
    "import astropy\n",
    "import regions\n",
    "import matplotlib.pyplot as plt\n",
    "from astropy.io import ascii\n",
    "from astropy.io import fits \n",
    "from astropy import units as u \n",
    "from regions import read_ds9, write_ds9\n",
    "from astropy.coordinates import SkyCoord\n",
    "import glob, os\n",
    "from astropy.coordinates import Angle, SkyCoord\n",
    "from regions import CircleSkyRegion\n",
    "from astropy.coordinates import SkyOffsetFrame\n",
    "from astropy import cosmology \n",
    "import math\n",
    "from astropy.table import Table, Column, unique\n",
    "from matplotlib import pyplot\n",
    "import random\n",
    "import scipy\n",
    "import collections \n",
    "from collections import Counter"
   ]
  },
  {
   "cell_type": "code",
   "execution_count": 2,
   "metadata": {},
   "outputs": [
    {
     "name": "stdout",
     "output_type": "stream",
     "text": [
      "      Name         SZ_RA     SZ_Dec   ...    BCG_RA     BCG_Dec   Redshift\n",
      "---------------- --------- ---------- ... ----------- ----------- --------\n",
      "SPT-CLJ0551-5709 87.904144 -57.155658 ...     87.8983   -57.14125   0.4243\n",
      "SPT-CLJ0551-5709 87.904144 -57.155658 ...  87.8931625 -57.1451139   0.4243\n",
      "SPT-CLJ0551-5709 87.904144 -57.155658 ...  87.8830958 -57.1602028   0.4243\n",
      "SPT-CLJ0014-4952 3.6968936  -49.87717 ...      3.7034 -49.8849556    0.752\n",
      "SPT-CLJ0014-4952 3.6968936  -49.87717 ...   3.7107292 -49.8854639    0.752\n",
      "SPT-CLJ0142-5032 25.545159 -50.543772 ...  25.5543333 -50.5355306   0.6793\n",
      "SPT-CLJ0142-5032 25.545159 -50.543772 ...  25.5401042 -50.5410111   0.6793\n",
      "SPT-CLJ0212-4657 33.106093 -46.950198 ...  33.1202537 -46.9488278   0.6535\n",
      "SPT-CLJ0212-4657 33.106093 -46.950198 ...  33.0984658  -46.953655   0.6535\n",
      "SPT-CLJ0307-6225 46.833649 -62.432706 ...    46.81897 -62.4448017   0.5801\n",
      "             ...       ...        ... ...         ...         ...      ...\n",
      "SPT-CLJ2218-4519 334.74858 -45.320523 ... 334.7467792 -45.3144389   0.6365\n",
      "SPT-CLJ2301-4023 345.46872  -40.39115 ... 345.4757667 -40.3894639   0.8349\n",
      "SPT-CLJ2301-4023 345.46872  -40.39115 ... 345.4662417 -40.3944194   0.8349\n",
      "SPT-CLJ2335-4544 353.78611 -45.738873 ... 353.7854804 -45.7391283   0.5473\n",
      "SPT-CLJ2335-4544 353.78611 -45.738873 ... 353.7840779 -45.7391578   0.5473\n",
      "SPT-CLJ2337-5942 354.35225 -59.704929 ... 354.3650125  -59.701375   0.7764\n",
      "SPT-CLJ2337-5942 354.35225 -59.704929 ...    354.3376 -59.7109889   0.7764\n",
      "SPT-CLJ2344-4243 356.18469 -42.720923 ... 356.1829729 -42.7200833   0.5953\n",
      "SPT-CLJ2344-4243 356.18469 -42.720923 ... 356.1734896   -42.72272   0.5953\n",
      "SPT-CLJ2359-5009  359.9208     -50.16 ...   359.92836 -50.1671164   0.7749\n",
      "SPT-CLJ2359-5009  359.9208     -50.16 ... 359.9325229 -50.1722178   0.7749\n",
      "Length = 29 rows\n"
     ]
    }
   ],
   "source": [
    "file = 'C://Users/Janel/Desktop/master_BCG_Cluster_Data2.txt' #master cluster data\n",
    "file2 = 'C://Users/Janel/Documents/Duplicates.txt' #names of duplicates that I found in previous code \n",
    "file3 = 'C://Users/Janel/Desktop/all_BCG_coords.txt'#original BCG coordinates \n",
    "\n",
    "\n",
    "outfil = 'C://Users/Janel/Desktop/Multiple_BCGs.txt'#writing info of multiple BCGs in this \n",
    "\n",
    "data =ascii.read(file,format = 'basic') #opening master file for reading \n",
    "data2 = ascii.read(file3) #opening BCG coordinaates for reading \n",
    "dup = open(file2, 'r') #opening duplicates file \n",
    "\n",
    "\n",
    "# setting table names for the new data \n",
    "newdata = Table(names=('Name','SZ_RA','SZ_Dec','Xpeak_RA','Xpeak_Dec', 'BCG_RA', 'BCG_Dec', 'Redshift'), dtype=('U17','f8','f8','f8','f8','f8','f8','f8'))\n",
    "\n",
    "\n",
    "#indexing needed data in which we want to find dubplicates for  \n",
    "cnames = data['Name']\n",
    "szra = data['SZ_RA']\n",
    "szdec = data['SZ_Dec']\n",
    "xra = data['Xpeak_RA']\n",
    "xdec = data['Xpeak_Dec']\n",
    "bra = data ['BCG_RA']\n",
    "bdec = data ['BCG_Dec']\n",
    "z_cl = data['Redshift']\n",
    "\n",
    "doubles = []     #defining array \n",
    "for i in range(len(data)): #for the length of the data \n",
    "    doubles = Counter(cnames).most_common() #identifying and counting the duplicate data \n",
    "\n",
    "for lines in dup:\n",
    "    dup_names1 = lines.split()  #splitting the data into columns \n",
    "    dup_names = '/n'.join(dup_names1) #getting the names for the duplicates \n",
    "    for i in range(len(data)): #for the length og data \n",
    "        if cnames[i] == dup_names: #if cnames matches dup_name \n",
    "            newdata.add_row((cnames[i], szra[i], szdec[i], xra[i], xdec[i],bra[i],bdec[i], z_cl[i])) #write the data into the new file \n",
    "print(newdata)\n",
    "#print([19:21])\n",
    "#newdata.write(outfil,format='ascii',overwrite=True)   \n",
    "#cluster names of doubles were copied and pasted into a new text document called, \"duplicates\".  \n",
    "#newdata stores all the information for the duplicates from the master sheet \n"
   ]
  },
  {
   "cell_type": "code",
   "execution_count": 41,
   "metadata": {},
   "outputs": [],
   "source": [
    "#Midpoint separation calculations \n",
    "file4 = 'C://Users/Janel/Documents/Midpoint_Coordinates.txt'\n",
    "file5 = 'C://Users/Janel/Desktop/Multiple_BCGs.txt'\n",
    "file6 = 'C://Users/Janel/Documents/Average_Separations.txt'\n",
    "file7 = 'C://Users/Janel/Documents/Duplicate_Redshift.txt'\n",
    "data2 = ascii.read(file4) #reading into ascii files\n",
    "data3 = ascii.read(file5)\n",
    "data4 = ascii.read(file6)\n",
    "data5 = ascii.read(file7)\n",
    "\n",
    "\n",
    "\n",
    "#Indexing the midpoint data:\n",
    "cnames = data2['Name']\n",
    "BCG_RA = data2['RA_mp']  #midpoint coordinate for BCG RAs \n",
    "BCG_Dec = data2['Dec_mp'] #midpoint coordinate for BCG Dec \n",
    "SZ_RA = data2['SZ_RA_mp'] #midpoint coordinate for SZ center  RA\n",
    "SZ_Dec = data2['SZ_Dec_mp'] #midpoint coordinate for SZ center Dec\n",
    "Xpeak_RA = data2['Xpeak_RA_mp'] #midpoint coordinate for Xpeak RA\n",
    "Xpeak_Dec = data2['Xpeak_Dec_mp'] #midpoint coordinate for xpeak Dec\n",
    "redshift = data5['Redshift']\n",
    "\n",
    "\n",
    "#Indexing BCG average sep data\n",
    "BCG_avg_SZ = data4['SZ_avg_sep']\n",
    "BCG_avg_Xp = data4['Xp_avg_sep']\n",
    "\n",
    "cos = astropy.cosmology.FlatLambdaCDM(H0 = 70, Om0 = 0.3, Tcmb0 = 2.725) #defining cosomology \n",
    "adj = cos.angular_diameter_distance(redshift).value\n",
    "\n",
    "#midpoint SZ separations \n",
    "c1 = SkyCoord(BCG_RA, BCG_Dec, unit='deg', frame = 'fk5')\n",
    "c2 = SkyCoord(SZ_RA, SZ_Dec, unit='deg', frame = 'fk5')\n",
    "\n",
    "\n",
    "sep = c2.separation(c1) \n",
    "nsep = sep.rad\n",
    "mid_aSZ = sep.arcsec\n",
    "\n",
    "mid_SZ_kpc = []\n",
    "for values in nsep:\n",
    "    sin = math.sin(values)\n",
    "    distance = np.multiply(sin,adj)\n",
    "    ndistance = abs(np.multiply(distance,1000))\n",
    "\n",
    "    mid_SZ_kpc = ndistance \n",
    "\n",
    "#midpoint Xp separations\n",
    "c3 = SkyCoord(BCG_RA, BCG_Dec, unit='deg', frame = 'fk5')\n",
    "c4 = SkyCoord(Xpeak_RA, Xpeak_Dec, unit='deg', frame = 'fk5')\n",
    "\n",
    "sep1 = c3.separation(c4)\n",
    "nsep1 = sep1.rad\n",
    "mid_aXp = sep1.arcsec\n",
    "\n",
    "mid_Xp_kpc = []\n",
    "for values in nsep1:\n",
    "    sin = math.sin(values)\n",
    "    distance = np.multiply(sin,adj)\n",
    "    ndistance = abs(np.multiply(distance,1000))\n",
    "    \n",
    "    mid_Xp_kpc = ndistance\n",
    "\n",
    "\n",
    "\n"
   ]
  },
  {
   "cell_type": "code",
   "execution_count": 42,
   "metadata": {},
   "outputs": [
    {
     "name": "stdout",
     "output_type": "stream",
     "text": [
      "[119.6311563  186.9658745   43.27460006  29.73800771 188.0496216\n",
      " 161.2360738   79.61994293 269.6049179   85.23870585 168.3452822\n",
      "  14.31900306 225.2686862   90.03245146  77.04370701]\n",
      "[4.77663346 6.30311455 6.05770812 5.95985549 5.64670006 6.29630252\n",
      " 4.20345613 5.39331642 5.89204234 6.53468525 5.48850061 6.37626286\n",
      " 5.7160294  6.37189107]\n"
     ]
    },
    {
     "data": {
      "image/png": "[encoded data removed]",
      "text/plain": [
       "<Figure size 432x288 with 1 Axes>"
      ]
     },
     "metadata": {},
     "output_type": "display_data"
    }
   ],
   "source": [
    "x = mid_Xp_kpc\n",
    "a = np.array(BCG_avg_Xp)\n",
    "print(a)\n",
    "print(x)\n",
    "\n",
    "plt.scatter(a,x, c= 'orange')\n",
    "# x-axis label\n",
    "plt.xlabel('Average Separation Value (kpc)')\n",
    "# frequency labe\n",
    "plt.ylabel('Midpoint Separation Value (kpc)')\n",
    "# plot title\n",
    "plt.title('BCG and Xray Peak Duplicate Offsets (needs revising)')\n",
    "plt.savefig('C://Users/Janel/Documents/BCG_Xray_Peak_Duplicates.png')  "
   ]
  },
  {
   "cell_type": "code",
   "execution_count": 43,
   "metadata": {},
   "outputs": [
    {
     "data": {
      "image/png": "[encoded data removed]",
      "text/plain": [
       "<Figure size 432x288 with 1 Axes>"
      ]
     },
     "metadata": {},
     "output_type": "display_data"
    }
   ],
   "source": [
    "b = np.array(BCG_avg_SZ)\n",
    "y = mid_SZ_kpc\n",
    "plt.scatter(b,y, c = 'blue')\n",
    "\n",
    "# x-axis label\n",
    "plt.xlabel('BCG Average Seperation Value (kpc)')\n",
    "# frequency labe\n",
    "plt.ylabel('Midpoint')\n",
    "# plot title\n",
    "plt.title('BCG and SZ Duplicate Offsets')\n",
    "plt.savefig('C://Users/Janel/Documents/BCG_SZ_Duplicates.png') "
   ]
  },
  {
   "cell_type": "code",
   "execution_count": 71,
   "metadata": {},
   "outputs": [],
   "source": [
    "#avg sep as input value for one \n",
    "#midpt sep as input value for another \n",
    "#chosen BCGs as the last one \n",
    "#midpoints might turn up 0 if bcgs are on opposite sides of cluster \n",
    "#one case seems to bracket the cluster, midpoint is very small comment on it \n",
    "\n",
    "\n",
    "     \n"
   ]
  },
  {
   "cell_type": "code",
   "execution_count": null,
   "metadata": {},
   "outputs": [],
   "source": []
  }
 ],
 "metadata": {
  "kernelspec": {
   "display_name": "Python 3",
   "language": "python",
   "name": "python3"
  },
  "language_info": {
   "codemirror_mode": {
    "name": "ipython",
    "version": 3
   },
   "file_extension": ".py",
   "mimetype": "text/x-python",
   "name": "python",
   "nbconvert_exporter": "python",
   "pygments_lexer": "ipython3",
   "version": "3.6.5"
  }
 },
 "nbformat": 4,
 "nbformat_minor": 2
}
