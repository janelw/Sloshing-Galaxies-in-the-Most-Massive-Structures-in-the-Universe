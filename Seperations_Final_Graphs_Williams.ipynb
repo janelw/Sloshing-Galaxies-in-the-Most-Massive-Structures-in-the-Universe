{
 "cells": [
  {
   "cell_type": "code",
   "execution_count": 1,
   "metadata": {},
   "outputs": [],
   "source": [
    "import numpy as np\n",
    "import astropy\n",
    "import regions\n",
    "import matplotlib.pyplot as plt\n",
    "from astropy.io import ascii\n",
    "from astropy.io import fits \n",
    "from astropy import units as u \n",
    "from regions import read_ds9, write_ds9\n",
    "from astropy.coordinates import SkyCoord\n",
    "import glob, os\n",
    "from astropy.coordinates import Angle, SkyCoord\n",
    "from regions import CircleSkyRegion\n",
    "from astropy.coordinates import SkyOffsetFrame\n",
    "from astropy import cosmology \n",
    "import math\n",
    "from astropy.table import Table, Column, unique\n",
    "from matplotlib import pyplot\n",
    "import random\n",
    "import scipy\n",
    "from scipy import stats"
   ]
  },
  {
   "cell_type": "code",
   "execution_count": 2,
   "metadata": {
    "scrolled": true
   },
   "outputs": [],
   "source": [
    "#dfile = 'C://Users/Janel/Desktop/all_BCG_coords.fits'\n",
    "#ftable = fits.open(dfile)\n",
    "#data = Table(ftable[1].data)\n",
    "#tfile = 'C://Users/Janel/Desktop/master_BCG_Cluster_Data.txt' \n",
    "tfile2 = 'C://Users/Janel/Desktop/master_BCG_Cluster_Data2.txt' #pulls master text file from directory \n",
    "#data = ascii.read(tfile,format = 'basic') # read that texr file into an ascii table \n",
    "data =ascii.read(tfile2,format = 'basic')  \n",
    "ncl = len(unique(data, keys = 'Name'))\n",
    "\n",
    "\n",
    "\n",
    "bcg_sz = data['BCG_Xp_AngDist'] #bcg-sz seperation \n",
    "bcg_peak = data['BCG_Xp_AngDist'] # bcg - xray peak separation \n",
    "bcg_xcen = data['BCG_Xc_AngDist'] #bcg - xray center separation \n",
    "sz_xcen = data['SZ_Xray_AngDist'] #sz - xcen separation \n",
    "spt_size = data['SPT_size'] #spt size \n",
    "spt_sn = data ['SPT_SN'] #spt - sn \n",
    "z_cls = data['Redshift'] #redshift of the galaxy clusters \n",
    "mass = data['m500']\n",
    "masse = data['m500err']\n",
    "beam = 0.0002*(180/math.pi)*3600 #beam value in radians (lamda/D -> radians (arcsec)) this is one value \n",
    "\n",
    "a = data['SZ_RA'] #here and below are indexed values within the table \n",
    "b = data['SZ_Dec']\n",
    "c = data['Xcen_RA']\n",
    "d = data['Xcen_Dec']\n",
    "e = data['Xpeak_RA']\n",
    "f = data['Xpeak_Dec']\n",
    "g = data['BCG_RA']\n",
    "h = data['BCG_Dec']\n",
    "\n",
    "SZc = SkyCoord(a,b, unit = 'deg', frame ='fk5') #SZ center\n",
    "XRc = SkyCoord(c,d, unit = 'deg', frame = 'fk5') #xray center\n",
    "XRp = SkyCoord(e,f, unit = 'deg', frame ='fk5')#xray peak \n",
    "BCG = SkyCoord(g,h, unit = 'deg',frame = 'fk5')#bcg \n",
    "\n",
    "sep6 = SZc.separation(XRp) #SZ and XRAY Peak \n",
    "nsep6 = sep6.rad\n",
    "asep6 = sep6.arcsec \n",
    "\n",
    "\n",
    "sep5 = SZc.separation(XRc)  #SZ and XRAY CENTER \n",
    "nsep5 = sep5.rad\n",
    "asep5 = sep5.arcsec\n",
    "\n",
    "sep7 = BCG.separation(XRp) #BCG and XRAY Peak\n",
    "nsep7 = sep7.rad\n",
    "asep7 = sep7.arcsec \n",
    "\n",
    "\n",
    "\n",
    "#tfile = 'C://Users/Janel/Desktop/all_BCG_coords.txt'\n",
    "#bdata = ascii.read(tfile)\n",
    "\n",
    "\n",
    "#bdata = Table(names=('Name', 'Redshift', 'Redshift_Err','N_Members','vd_biw','vd_err','SZ_RA','SZ_Dec','Xpeak_RA',\n",
    "#'Xpeak_Dec','Xcen_RA','Xcen_Dec','BCG_RA','BCG_Dec','BCG_SZ_AngDist','BCG_Xp_AngDist','BCG_Xc_AngDist','SZ_Xray_AngDist','SZ_Xray_Arcsec')\n",
    "\n",
    "cos = astropy.cosmology.FlatLambdaCDM(H0 = 70, Om0 = 0.3, Tcmb0 = 2.725) #defining cosmological values \n",
    "\n",
    "simu = [] #indexing simiuation values \n",
    "simuk = [] #simulation of \n",
    "random.seed()\n",
    "for i in range(len(data)): #for the length of cdata\n",
    "    szerr = math.sqrt(beam**2 + spt_size[i]**2 )/ spt_sn[i] #this is the expected error for the SZ cluster, it is delta theta in the equation\n",
    "    #and sigma in application #\n",
    "    rval = np.random.rand(1000) \n",
    "    x = np.sqrt(-2*np.log(rval)*szerr**2) #this is the simulated measurements. now i have to put this into an array \n",
    "    simu = np.append(simu,x)\n",
    "    adj = cos.angular_diameter_distance(z_cls[i]).value \n",
    "    fac = (3600*(180/math.pi))\n",
    "    xr = np.divide(x,fac)\n",
    "    xmpc = np.multiply(xr,adj)\n",
    "    xkpc = np.multiply(xmpc,1000)\n",
    "    simuk = np.append(simuk,xkpc)\n",
    "    \n",
    "        \n",
    "#print(np.median(simu))\n",
    "#print(np.std(simu))        \n",
    "#print(max(simu))\n",
    "#print(min(simu))\n",
    "\n",
    "simux = []\n",
    "simux_k = []\n",
    "#random.seed()\n",
    "for i in range(len(data)): #for the length of cdata\n",
    "    xerr = 1 #this is the expected error for the SZ cluster, it is delta theta in the equation\n",
    "    #and sigma in application #\n",
    "    rval1 = np.random.rand(1000)\n",
    "    x = np.sqrt(-2*np.log(rval1)*xerr**2) #this is the simulated measurements. now i have to put this into an array \n",
    "    simux = np.append(simux,x)\n",
    "  \n",
    "    adj = cos.angular_diameter_distance(z_cls[i]).value \n",
    "    fac = (3600*(180/math.pi))\n",
    "    xr = np.divide(x,fac)\n",
    "    xmpc = np.multiply(xr,adj)\n",
    "    xkpc = np.multiply(xmpc,1000)\n",
    "    simux_k = np.append(simux_k,xkpc)\n",
    "    "
   ]
  },
  {
   "cell_type": "code",
   "execution_count": 3,
   "metadata": {},
   "outputs": [
    {
     "name": "stdout",
     "output_type": "stream",
     "text": [
      "48.6370575\n",
      "48.6370575\n",
      "44.2451053089827\n",
      "1.569358806\n",
      "1.569358806\n",
      "1.519130407885231\n"
     ]
    },
    {
     "data": {
      "text/plain": [
       "(0, 400)"
      ]
     },
     "execution_count": 3,
     "metadata": {},
     "output_type": "execute_result"
    },
    {
     "data": {
      "image/png": "[encoded data removed]",
      "text/plain": [
       "<Figure size 432x288 with 1 Axes>"
      ]
     },
     "metadata": {},
     "output_type": "display_data"
    }
   ],
   "source": [
    "#BCG and SZ in kpc\n",
    "sep = np.array(bcg_sz)\n",
    "sep1 = np.array(bcg_peak)\n",
    "\n",
    "prange = [0, 400]\n",
    "bins = 10\n",
    " \n",
    "# plotting a histogram (_hist)\n",
    "#plt.hist(sep, bins, prange, color = 'purple', histtype = 'bar', rwidth = 1,density = True)\n",
    "\n",
    "#plotting pdf histogram (_pdf)\n",
    "#plt.hist(sep, bins, prange, color = 'purple', histtype = 'bar', rwidth = 1, density = True)\n",
    "\n",
    "#plotting the cumulative distribution (_cdf)\n",
    "plt.hist(sep, bins, prange, color = 'cyan', histtype = 'step', rwidth = 2, cumulative = True, density = True, label = 'BCG - SZ')\n",
    "\n",
    "print(np.median(sep))\n",
    "print(np.median(sep1))\n",
    "print(np.median(simuk))\n",
    "print(np.percentile(sep1, .1, ))\n",
    "print(np.percentile(sep, .1, ))\n",
    "print(np.percentile(simuk, .1, ))\n",
    "# x-axis label\n",
    "plt.xlabel('Seperation Value (kpc)')\n",
    "# frequency labe\n",
    "plt.ylabel('Cumulitive Value (%)')\n",
    "# plot title\n",
    "\n",
    "\n",
    "\n",
    "prange = [0, 400]\n",
    "bins = 100\n",
    "#plt.hist(simuk, bins, prange, color = 'orange', histtype = 'step', rwidth = 1, density = True)\n",
    "plt.hist(simuk, bins, prange, color = 'black', histtype = 'step', rwidth = 2, cumulative = True, density = True, label = 'Simulated from SZ Measurement Errors')\n",
    "plt.hist(sep1, bins, prange, color = 'blue', histtype = 'step', rwidth = 2, cumulative = True, density = True, label = 'BCG - Xray')\n",
    "\n",
    "plt.legend(loc='upper left', frameon=False )\n",
    "  \n",
    "plt.ylim(0, 1.5)    \n",
    "plt.xlim(0, 400)\n",
    "   \n",
    "\n",
    "\n",
    "#plt.savefig('C://Users/Janel/Desktop/MultiGraph2.png')  \n",
    "     #   values = lines.split(',')\n",
    "      #  print(values)"
   ]
  },
  {
   "cell_type": "code",
   "execution_count": 4,
   "metadata": {},
   "outputs": [
    {
     "name": "stdout",
     "output_type": "stream",
     "text": [
      "465.779648\n",
      "1.569304\n"
     ]
    },
    {
     "data": {
      "text/plain": [
       "Text(0.5,1,'BCG and Xray Peak Offset')"
      ]
     },
     "execution_count": 4,
     "metadata": {},
     "output_type": "execute_result"
    },
    {
     "data": {
      "image/png": "[encoded data removed]",
      "text/plain": [
       "<Figure size 432x288 with 1 Axes>"
      ]
     },
     "metadata": {},
     "output_type": "display_data"
    }
   ],
   "source": [
    "#BCG and XRAY PEAK in kpc \n",
    "\n",
    "sep1 = np.array(bcg_peak)\n",
    "\n",
    "print(max(bcg_peak))\n",
    "print(min(bcg_peak))\n",
    "prange = [0, 400]\n",
    "bins = 10\n",
    " \n",
    "# plotting a histogram (_hist)\n",
    "plt.hist(sep1, bins, prange, color = 'blue', histtype = 'bar', rwidth = 1, density = True)\n",
    "\n",
    "#plotting pdf histogram (_pdf)\n",
    "#plt.hist(sep1, bins, prange, color = 'blue', histtype = 'bar', rwidth = 1, density = True)\n",
    "\n",
    "#plotting the cumulative distribution (_cdf)\n",
    "#plt.hist(sep1, bins, prange, color = 'blue', histtype = 'bar', rwidth = 1, cumulative = True, density = True)\n",
    "\n",
    "\n",
    "# x-axis label\n",
    "plt.xlabel('Seperation Value (kpc)')\n",
    "# frequency labe\n",
    "plt.ylabel('N')\n",
    "# plot title\n",
    "plt.title('BCG and Xray Peak Offset')\n",
    "#plt.show()\n",
    "     #   values = lines.split(',')\n",
    "      #  print(values)\n",
    "        \n",
    "#prange = [0, 20]\n",
    "#bins = 100\n",
    "#plt.hist(simux_k, bins, prange, color = 'orange', histtype = 'step', rwidth = 1, density = True)\n",
    "\n",
    "\n",
    "#plt.hist(simux_k, bins, prange, color = 'orange', histtype = 'step', rwidth = 1, density = True)\n",
    "\n",
    "#plt.savefig('C://Users/Janel/Desktop/BCG_Xrayp_Graph_kpc_hist.png')    "
   ]
  },
  {
   "cell_type": "code",
   "execution_count": 7,
   "metadata": {},
   "outputs": [
    {
     "data": {
      "text/plain": [
       "(array([1.98322244e-03, 5.71436975e-03, 8.62617728e-03, 1.06892328e-02,\n",
       "        1.29791825e-02, 1.36304525e-02, 1.34875933e-02, 1.40086094e-02,\n",
       "        1.35380142e-02, 1.36934787e-02, 1.33111201e-02, 1.30169981e-02,\n",
       "        1.23699298e-02, 1.19833695e-02, 1.12942837e-02, 1.13320994e-02,\n",
       "        1.02606551e-02, 9.78165645e-03, 9.09257069e-03, 8.20180129e-03,\n",
       "        7.40347022e-03, 6.73119143e-03, 6.08832483e-03, 5.55890528e-03,\n",
       "        4.83200383e-03, 4.45384701e-03, 3.89921701e-03, 3.49584973e-03,\n",
       "        3.25635041e-03, 2.68071169e-03, 2.44961586e-03, 2.06725729e-03,\n",
       "        1.76473183e-03, 1.68910047e-03, 1.27312797e-03, 1.15547918e-03,\n",
       "        1.13026872e-03, 9.53795539e-04, 7.81524098e-04, 5.42024778e-04,\n",
       "        6.68077052e-04, 4.83200383e-04, 3.94963791e-04, 3.48744624e-04,\n",
       "        2.05885381e-04, 3.19332427e-04, 2.94121972e-04, 2.10087123e-04,\n",
       "        1.97481896e-04, 1.42859244e-04, 1.51262729e-04, 1.38657501e-04,\n",
       "        1.00841819e-04, 9.66400766e-05, 9.66400766e-05, 9.66400766e-05,\n",
       "        5.46226520e-05, 5.88243945e-05, 3.36139397e-05, 5.46226520e-05,\n",
       "        3.36139397e-05, 4.62191671e-05, 1.68069699e-05, 3.78156822e-05,\n",
       "        2.10087123e-05, 2.52104548e-05, 8.40348493e-06, 2.52104548e-05,\n",
       "        1.68069699e-05, 1.26052274e-05, 1.26052274e-05, 1.26052274e-05,\n",
       "        3.36139397e-05, 1.26052274e-05, 8.40348493e-06, 4.20174246e-06,\n",
       "        4.20174246e-06, 8.40348493e-06, 0.00000000e+00, 4.20174246e-06,\n",
       "        4.20174246e-06, 4.20174246e-06, 0.00000000e+00, 0.00000000e+00,\n",
       "        0.00000000e+00, 0.00000000e+00, 0.00000000e+00, 0.00000000e+00,\n",
       "        8.40348493e-06, 0.00000000e+00, 0.00000000e+00, 0.00000000e+00,\n",
       "        0.00000000e+00, 0.00000000e+00, 0.00000000e+00, 0.00000000e+00,\n",
       "        4.20174246e-06, 0.00000000e+00, 0.00000000e+00, 0.00000000e+00]),\n",
       " array([  0. ,   3.5,   7. ,  10.5,  14. ,  17.5,  21. ,  24.5,  28. ,\n",
       "         31.5,  35. ,  38.5,  42. ,  45.5,  49. ,  52.5,  56. ,  59.5,\n",
       "         63. ,  66.5,  70. ,  73.5,  77. ,  80.5,  84. ,  87.5,  91. ,\n",
       "         94.5,  98. , 101.5, 105. , 108.5, 112. , 115.5, 119. , 122.5,\n",
       "        126. , 129.5, 133. , 136.5, 140. , 143.5, 147. , 150.5, 154. ,\n",
       "        157.5, 161. , 164.5, 168. , 171.5, 175. , 178.5, 182. , 185.5,\n",
       "        189. , 192.5, 196. , 199.5, 203. , 206.5, 210. , 213.5, 217. ,\n",
       "        220.5, 224. , 227.5, 231. , 234.5, 238. , 241.5, 245. , 248.5,\n",
       "        252. , 255.5, 259. , 262.5, 266. , 269.5, 273. , 276.5, 280. ,\n",
       "        283.5, 287. , 290.5, 294. , 297.5, 301. , 304.5, 308. , 311.5,\n",
       "        315. , 318.5, 322. , 325.5, 329. , 332.5, 336. , 339.5, 343. ,\n",
       "        346.5, 350. ]),\n",
       " <a list of 1 Patch objects>)"
      ]
     },
     "execution_count": 7,
     "metadata": {},
     "output_type": "execute_result"
    },
    {
     "data": {
      "image/png": "[encoded data removed]",
      "text/plain": [
       "<Figure size 432x288 with 1 Axes>"
      ]
     },
     "metadata": {},
     "output_type": "display_data"
    }
   ],
   "source": [
    "#BCG and XRAY CENTER in kpc\n",
    "sep2 = np.array(bcg_xcen)\n",
    "\n",
    "\n",
    "prange = [0, 300]\n",
    "bins = 8\n",
    " \n",
    "# plotting a histogram\n",
    "#plt.hist(sep2, bins, prange, color = 'green', histtype = 'bar', rwidth = 1)\n",
    "\n",
    "#plotting pdf histogram (_pdf)\n",
    "plt.hist(sep2, bins, prange, color = 'green', histtype = 'bar', rwidth = 1, density = True)\n",
    "\n",
    "#plotting the cumulative distribution (_cdf)\n",
    "#plt.hist(sep2, bins, prange, color = 'green', histtype = 'bar', rwidth = 1, cumulative = True, density = True)\n",
    "\n",
    "# x-axis label\n",
    "plt.xlabel('Seperation Value (kpc)')\n",
    "# frequency labe\n",
    "plt.ylabel('N')\n",
    "# plot title\n",
    "plt.title('BCG and Xray Center Offset')\n",
    "\n",
    "        \n",
    "prange = [0, 350]\n",
    "bins = 100\n",
    "plt.hist(simuk, bins, prange, color = 'orange', histtype = 'step', rwidth = 1, density = True)\n",
    "  \n",
    "#plt.savefig('C://Users/Janel/Desktop/BCG_Xcen_graph_kpc_hist.png')    "
   ]
  },
  {
   "cell_type": "code",
   "execution_count": 8,
   "metadata": {},
   "outputs": [
    {
     "data": {
      "text/plain": [
       "(array([1.98322244e-03, 5.71436975e-03, 8.62617728e-03, 1.06892328e-02,\n",
       "        1.29791825e-02, 1.36304525e-02, 1.34875933e-02, 1.40086094e-02,\n",
       "        1.35380142e-02, 1.36934787e-02, 1.33111201e-02, 1.30169981e-02,\n",
       "        1.23699298e-02, 1.19833695e-02, 1.12942837e-02, 1.13320994e-02,\n",
       "        1.02606551e-02, 9.78165645e-03, 9.09257069e-03, 8.20180129e-03,\n",
       "        7.40347022e-03, 6.73119143e-03, 6.08832483e-03, 5.55890528e-03,\n",
       "        4.83200383e-03, 4.45384701e-03, 3.89921701e-03, 3.49584973e-03,\n",
       "        3.25635041e-03, 2.68071169e-03, 2.44961586e-03, 2.06725729e-03,\n",
       "        1.76473183e-03, 1.68910047e-03, 1.27312797e-03, 1.15547918e-03,\n",
       "        1.13026872e-03, 9.53795539e-04, 7.81524098e-04, 5.42024778e-04,\n",
       "        6.68077052e-04, 4.83200383e-04, 3.94963791e-04, 3.48744624e-04,\n",
       "        2.05885381e-04, 3.19332427e-04, 2.94121972e-04, 2.10087123e-04,\n",
       "        1.97481896e-04, 1.42859244e-04, 1.51262729e-04, 1.38657501e-04,\n",
       "        1.00841819e-04, 9.66400766e-05, 9.66400766e-05, 9.66400766e-05,\n",
       "        5.46226520e-05, 5.88243945e-05, 3.36139397e-05, 5.46226520e-05,\n",
       "        3.36139397e-05, 4.62191671e-05, 1.68069699e-05, 3.78156822e-05,\n",
       "        2.10087123e-05, 2.52104548e-05, 8.40348493e-06, 2.52104548e-05,\n",
       "        1.68069699e-05, 1.26052274e-05, 1.26052274e-05, 1.26052274e-05,\n",
       "        3.36139397e-05, 1.26052274e-05, 8.40348493e-06, 4.20174246e-06,\n",
       "        4.20174246e-06, 8.40348493e-06, 0.00000000e+00, 4.20174246e-06,\n",
       "        4.20174246e-06, 4.20174246e-06, 0.00000000e+00, 0.00000000e+00,\n",
       "        0.00000000e+00, 0.00000000e+00, 0.00000000e+00, 0.00000000e+00,\n",
       "        8.40348493e-06, 0.00000000e+00, 0.00000000e+00, 0.00000000e+00,\n",
       "        0.00000000e+00, 0.00000000e+00, 0.00000000e+00, 0.00000000e+00,\n",
       "        4.20174246e-06, 0.00000000e+00, 0.00000000e+00, 0.00000000e+00]),\n",
       " array([  0. ,   3.5,   7. ,  10.5,  14. ,  17.5,  21. ,  24.5,  28. ,\n",
       "         31.5,  35. ,  38.5,  42. ,  45.5,  49. ,  52.5,  56. ,  59.5,\n",
       "         63. ,  66.5,  70. ,  73.5,  77. ,  80.5,  84. ,  87.5,  91. ,\n",
       "         94.5,  98. , 101.5, 105. , 108.5, 112. , 115.5, 119. , 122.5,\n",
       "        126. , 129.5, 133. , 136.5, 140. , 143.5, 147. , 150.5, 154. ,\n",
       "        157.5, 161. , 164.5, 168. , 171.5, 175. , 178.5, 182. , 185.5,\n",
       "        189. , 192.5, 196. , 199.5, 203. , 206.5, 210. , 213.5, 217. ,\n",
       "        220.5, 224. , 227.5, 231. , 234.5, 238. , 241.5, 245. , 248.5,\n",
       "        252. , 255.5, 259. , 262.5, 266. , 269.5, 273. , 276.5, 280. ,\n",
       "        283.5, 287. , 290.5, 294. , 297.5, 301. , 304.5, 308. , 311.5,\n",
       "        315. , 318.5, 322. , 325.5, 329. , 332.5, 336. , 339.5, 343. ,\n",
       "        346.5, 350. ]),\n",
       " <a list of 1 Patch objects>)"
      ]
     },
     "execution_count": 8,
     "metadata": {},
     "output_type": "execute_result"
    },
    {
     "data": {
      "image/png": "[encoded data removed]",
      "text/plain": [
       "<Figure size 432x288 with 1 Axes>"
      ]
     },
     "metadata": {},
     "output_type": "display_data"
    }
   ],
   "source": [
    "#SZ and Xray center seperation in kpc \n",
    "sep3 = np.array(sz_xcen)\n",
    "\n",
    "prange = [0, 350]\n",
    "bins = 6\n",
    " \n",
    "# plotting a histogram (_hist)\n",
    "#plt.hist(sep3, bins, prange, color = 'pink', histtype = 'bar', rwidth = 1)\n",
    "\n",
    "#plotting pdf histogram (_pdf)\n",
    "plt.hist(sep3, bins, prange, color = 'pink', histtype = 'bar', rwidth = 1, density = True)\n",
    "\n",
    "#plotting the cumulative distribution (_cdf)\n",
    "#plt.hist(sep3, bins, prange, color = 'pink', histtype = 'bar', rwidth = 1, cumulative = True, density = True) \n",
    "\n",
    "# x-axis label\n",
    "plt.xlabel('Seperation Value (kpc)')\n",
    "# frequency labe\n",
    "plt.ylabel('N')\n",
    "# plot title\n",
    "plt.title('SZ and Xray Center Offset')\n",
    "     \n",
    "prange = [0, 350]\n",
    "bins = 100\n",
    "plt.hist(simuk, bins, prange, color = 'orange', histtype = 'step', rwidth = 1, density = True) \n",
    "\n",
    "#plt.hist(simux, bins, prange, color = 'orange', histtype = 'step', rwidth = 1, density = True)\n",
    "#plt.savefig('C://Users/Janel/Desktop/SZ_Xcen_Graph_kpc_hist.png')    "
   ]
  },
  {
   "cell_type": "code",
   "execution_count": 9,
   "metadata": {},
   "outputs": [
    {
     "data": {
      "text/plain": [
       "(array([1.01636976e-02, 3.09813034e-02, 4.70275270e-02, 5.89559824e-02,\n",
       "        7.29433219e-02, 8.46756931e-02, 8.46103317e-02, 8.81071666e-02,\n",
       "        8.88915033e-02, 8.74535526e-02, 9.07543032e-02, 8.89895454e-02,\n",
       "        8.69306614e-02, 8.66365351e-02, 8.16690687e-02, 8.16037073e-02,\n",
       "        7.80415110e-02, 7.80088303e-02, 7.51656094e-02, 7.12439255e-02,\n",
       "        6.49038697e-02, 6.44790206e-02, 5.71585439e-02, 5.34656248e-02,\n",
       "        4.87269233e-02, 4.73216533e-02, 4.29424395e-02, 3.86285871e-02,\n",
       "        3.55239206e-02, 3.21251279e-02, 2.92492263e-02, 2.66347703e-02,\n",
       "        2.32686582e-02, 2.13404969e-02, 1.94776971e-02, 1.66671569e-02,\n",
       "        1.64383920e-02, 1.29088764e-02, 1.16016484e-02, 1.16343291e-02,\n",
       "        9.57544503e-03, 7.45119955e-03, 8.39893984e-03, 6.01324876e-03,\n",
       "        5.32695406e-03, 4.73870147e-03, 3.20270858e-03, 3.52951557e-03,\n",
       "        3.49683487e-03, 2.77785948e-03, 3.13734718e-03, 1.99352269e-03,\n",
       "        2.02620339e-03, 1.50331219e-03, 1.50331219e-03, 1.53599289e-03,\n",
       "        1.30722799e-03, 1.04578239e-03, 7.51656094e-04, 4.57529797e-04,\n",
       "        5.55571896e-04, 3.92168397e-04, 4.24849097e-04, 3.92168397e-04,\n",
       "        6.20933295e-04, 2.94126298e-04, 2.28764898e-04, 1.96084199e-04,\n",
       "        2.28764898e-04, 6.53613995e-05, 1.96084199e-04, 1.96084199e-04,\n",
       "        9.80420993e-05, 1.96084199e-04, 6.53613995e-05, 1.30722799e-04,\n",
       "        2.28764898e-04, 1.63403499e-04, 9.80420993e-05, 0.00000000e+00,\n",
       "        3.26806998e-05, 6.53613995e-05, 3.26806998e-05, 3.26806998e-05,\n",
       "        3.26806998e-05, 3.26806998e-05, 3.26806998e-05, 0.00000000e+00,\n",
       "        0.00000000e+00, 0.00000000e+00, 0.00000000e+00, 0.00000000e+00,\n",
       "        6.53613995e-05, 0.00000000e+00, 0.00000000e+00, 0.00000000e+00,\n",
       "        0.00000000e+00, 0.00000000e+00, 0.00000000e+00, 0.00000000e+00]),\n",
       " array([ 0.  ,  0.45,  0.9 ,  1.35,  1.8 ,  2.25,  2.7 ,  3.15,  3.6 ,\n",
       "         4.05,  4.5 ,  4.95,  5.4 ,  5.85,  6.3 ,  6.75,  7.2 ,  7.65,\n",
       "         8.1 ,  8.55,  9.  ,  9.45,  9.9 , 10.35, 10.8 , 11.25, 11.7 ,\n",
       "        12.15, 12.6 , 13.05, 13.5 , 13.95, 14.4 , 14.85, 15.3 , 15.75,\n",
       "        16.2 , 16.65, 17.1 , 17.55, 18.  , 18.45, 18.9 , 19.35, 19.8 ,\n",
       "        20.25, 20.7 , 21.15, 21.6 , 22.05, 22.5 , 22.95, 23.4 , 23.85,\n",
       "        24.3 , 24.75, 25.2 , 25.65, 26.1 , 26.55, 27.  , 27.45, 27.9 ,\n",
       "        28.35, 28.8 , 29.25, 29.7 , 30.15, 30.6 , 31.05, 31.5 , 31.95,\n",
       "        32.4 , 32.85, 33.3 , 33.75, 34.2 , 34.65, 35.1 , 35.55, 36.  ,\n",
       "        36.45, 36.9 , 37.35, 37.8 , 38.25, 38.7 , 39.15, 39.6 , 40.05,\n",
       "        40.5 , 40.95, 41.4 , 41.85, 42.3 , 42.75, 43.2 , 43.65, 44.1 ,\n",
       "        44.55, 45.  ]),\n",
       " <a list of 1 Patch objects>)"
      ]
     },
     "execution_count": 9,
     "metadata": {},
     "output_type": "execute_result"
    },
    {
     "data": {
      "image/png": "[encoded data removed]",
      "text/plain": [
       "<Figure size 432x288 with 1 Axes>"
      ]
     },
     "metadata": {},
     "output_type": "display_data"
    }
   ],
   "source": [
    "#SZ and Xray Center in arcseconds \n",
    "prange = [0, 50]\n",
    "bins = 8\n",
    "\n",
    "#plotting a histogram (_hist)\n",
    "#plt.hist(asep5, bins, prange, color = 'orange', histtype = 'bar', rwidth = 1)\n",
    " \n",
    "#plotting pdf histogram (_pdf)\n",
    "plt.hist(asep5, bins, prange, color = 'orange', histtype = 'bar', rwidth = 1, density = True)\n",
    "\n",
    "#plotting the cumulative distribution (_cdf)\n",
    "#plt.hist(asep5, bins, prange, color = 'Orange', histtype = 'bar', rwidth = 1, cumulative = True)    \n",
    "    \n",
    "    \n",
    "# x-axis label\n",
    "plt.xlabel('Seperation Value (Arcseconds)')\n",
    "# frequency labe\n",
    "plt.ylabel('N')\n",
    "# plot title\n",
    "plt.title('SZ and Xray Center Offset')\n",
    "\n",
    "\n",
    "\n",
    "prange = [0, 45]\n",
    "bins = 100\n",
    "plt.hist(simu, bins, prange, color = 'black', histtype = 'step', rwidth = 1, density = True)\n",
    "#plt.hist(simux_k, bins, prange, color = 'blue', histtype = 'step', rwidth = 1, density = True)\n",
    "\n",
    "#plt.savefig('C://Users/Janel/Desktop/SZ_X_Arc_Graph_arc_hist.png')        "
   ]
  },
  {
   "cell_type": "code",
   "execution_count": 10,
   "metadata": {},
   "outputs": [
    {
     "data": {
      "text/plain": [
       "(array([1.3000e-02, 3.9500e-02, 5.6450e-02, 7.4225e-02, 8.4125e-02,\n",
       "        8.7275e-02, 8.8050e-02, 8.9025e-02, 8.9275e-02, 8.8050e-02,\n",
       "        8.5700e-02, 8.1300e-02, 7.8600e-02, 7.7800e-02, 7.1700e-02,\n",
       "        6.8025e-02, 6.3625e-02, 5.5675e-02, 4.9300e-02, 4.8050e-02,\n",
       "        4.2000e-02, 3.5875e-02, 3.3100e-02, 2.8775e-02, 2.4300e-02,\n",
       "        2.1675e-02, 1.9000e-02, 1.6950e-02, 1.3550e-02, 1.1625e-02,\n",
       "        1.1200e-02, 8.0000e-03, 7.9250e-03, 5.4750e-03, 5.4750e-03,\n",
       "        3.3250e-03, 3.3750e-03, 3.3250e-03, 3.0750e-03, 2.1000e-03,\n",
       "        1.6500e-03, 1.5000e-03, 1.5000e-03, 1.1250e-03, 9.5000e-04,\n",
       "        5.2500e-04, 5.0000e-04, 3.7500e-04, 4.2500e-04, 6.0000e-04,\n",
       "        1.5000e-04, 2.2500e-04, 2.2500e-04, 1.0000e-04, 2.2500e-04,\n",
       "        7.5000e-05, 1.7500e-04, 1.0000e-04, 2.2500e-04, 1.2500e-04,\n",
       "        5.0000e-05, 2.5000e-05, 5.0000e-05, 2.5000e-05, 5.0000e-05,\n",
       "        2.5000e-05, 2.5000e-05, 0.0000e+00, 0.0000e+00, 0.0000e+00,\n",
       "        5.0000e-05, 0.0000e+00, 0.0000e+00, 0.0000e+00, 0.0000e+00,\n",
       "        0.0000e+00, 0.0000e+00, 2.5000e-05, 0.0000e+00, 0.0000e+00,\n",
       "        2.5000e-05, 0.0000e+00, 0.0000e+00, 0.0000e+00, 0.0000e+00]),\n",
       " array([ 0.        ,  0.58823529,  1.17647059,  1.76470588,  2.35294118,\n",
       "         2.94117647,  3.52941176,  4.11764706,  4.70588235,  5.29411765,\n",
       "         5.88235294,  6.47058824,  7.05882353,  7.64705882,  8.23529412,\n",
       "         8.82352941,  9.41176471, 10.        , 10.58823529, 11.17647059,\n",
       "        11.76470588, 12.35294118, 12.94117647, 13.52941176, 14.11764706,\n",
       "        14.70588235, 15.29411765, 15.88235294, 16.47058824, 17.05882353,\n",
       "        17.64705882, 18.23529412, 18.82352941, 19.41176471, 20.        ,\n",
       "        20.58823529, 21.17647059, 21.76470588, 22.35294118, 22.94117647,\n",
       "        23.52941176, 24.11764706, 24.70588235, 25.29411765, 25.88235294,\n",
       "        26.47058824, 27.05882353, 27.64705882, 28.23529412, 28.82352941,\n",
       "        29.41176471, 30.        , 30.58823529, 31.17647059, 31.76470588,\n",
       "        32.35294118, 32.94117647, 33.52941176, 34.11764706, 34.70588235,\n",
       "        35.29411765, 35.88235294, 36.47058824, 37.05882353, 37.64705882,\n",
       "        38.23529412, 38.82352941, 39.41176471, 40.        , 40.58823529,\n",
       "        41.17647059, 41.76470588, 42.35294118, 42.94117647, 43.52941176,\n",
       "        44.11764706, 44.70588235, 45.29411765, 45.88235294, 46.47058824,\n",
       "        47.05882353, 47.64705882, 48.23529412, 48.82352941, 49.41176471,\n",
       "        50.        ]),\n",
       " <a list of 1 Patch objects>)"
      ]
     },
     "execution_count": 10,
     "metadata": {},
     "output_type": "execute_result"
    },
    {
     "data": {
      "image/png": "[encoded data removed]",
      "text/plain": [
       "<Figure size 432x288 with 1 Axes>"
      ]
     },
     "metadata": {},
     "output_type": "display_data"
    }
   ],
   "source": [
    "#SZ and Xray Peak seperation in arcseconds \n",
    "prange = [0, 50]\n",
    "bins = 7\n",
    "\n",
    "#plotting a histogram (_hist)\n",
    "#plt.hist(asep6, bins, prange, color = 'cyan', histtype = 'bar', rwidth = 1)\n",
    "\n",
    "#plotting pdf histogram (_pdf)\n",
    "plt.hist(asep6, bins, prange, color = 'cyan', histtype = 'bar', rwidth = 1, density = True)\n",
    "\n",
    "#plotting the cumulative distribution (_cdf)\n",
    "#plt.hist(asep6, bins, prange, color = 'cyan', histtype = 'bar', rwidth = 1, cumulative = True, density = True)\n",
    "\n",
    "\n",
    "# x-axis label\n",
    "plt.xlabel('Seperation Value (Arcseconds)')\n",
    "# frequency labe\n",
    "plt.ylabel('N')\n",
    "# plot title\n",
    "plt.title('SZ AND Xray Peak Offsets')\n",
    "\n",
    "\n",
    "\n",
    "prange = [0, 50]\n",
    "bins = 85\n",
    "plt.hist(simu, bins, prange, color = 'orange', histtype = 'step', rwidth = 1, density = True)\n",
    " \n",
    "#plt.savefig('C://Users/Janel/Desktop/SZ_Xp_Arc_Graph_arc_hist.png') "
   ]
  },
  {
   "cell_type": "code",
   "execution_count": 11,
   "metadata": {},
   "outputs": [
    {
     "name": "stdout",
     "output_type": "stream",
     "text": [
      "74.11381560309638\n",
      "0.21938147531744048\n"
     ]
    },
    {
     "data": {
      "text/plain": [
       "(array([1., 1., 1., 1., 1., 1., 1., 1., 1., 1.]),\n",
       " array([ 0.,  9., 18., 27., 36., 45., 54., 63., 72., 81., 90.]),\n",
       " <a list of 1 Patch objects>)"
      ]
     },
     "execution_count": 11,
     "metadata": {},
     "output_type": "execute_result"
    },
    {
     "data": {
      "image/png": "[encoded data removed]",
      "text/plain": [
       "<Figure size 432x288 with 1 Axes>"
      ]
     },
     "metadata": {},
     "output_type": "display_data"
    }
   ],
   "source": [
    "sep1 = np.array(bcg_peak)\n",
    "\n",
    "print(max(asep7))\n",
    "print(min(asep7))\n",
    "prange = [0, 90]\n",
    "bins = 50\n",
    " \n",
    "# plotting a histogram (_hist)\n",
    "\n",
    "plt.hist(asep7, bins, prange, color = 'blue', histtype = 'step', rwidth = 1, cumulative = True, density = True)\n",
    "plt.hist(sep, bins, prange, color = 'purple', histtype = 'step', rwidth = 1, cumulative = True, density = True)\n",
    "#plotting pdf histogram (_pdf)\n",
    "#plt.hist(sep1, bins, prange, color = 'blue', histtype = 'bar', rwidth = 1, density = True)\n",
    "\n",
    "#plotting the cumulative distribution (_cdf)\n",
    "#plt.hist(sep1, bins, prange, color = 'blue', histtype = 'bar', rwidth = 1, cumulative = True, density = True)\n",
    "\n",
    "\n",
    "# x-axis label\n",
    "plt.xlabel('Seperation Value (arcseconds)')\n",
    "# frequency labe\n",
    "plt.ylabel('Number of Galaxies')\n",
    "# plot title\n",
    "plt.title('BCG and Xray peak offset')\n",
    "\n",
    "\n",
    "\n",
    "bins = 10\n",
    "plt.hist(simux, bins, prange, color = 'orange', histtype = 'step', rwidth = 1, cumulative = True, density = True)\n",
    "\n",
    "#plt.savefig('C://Users/Janel/Desktop/BCG_Xrayp_Graph_arc_hist.png')  "
   ]
  },
  {
   "cell_type": "code",
   "execution_count": 14,
   "metadata": {},
   "outputs": [
    {
     "name": "stdout",
     "output_type": "stream",
     "text": [
      "0.6058352941176472\n"
     ]
    },
    {
     "data": {
      "image/png": "[encoded data removed]",
      "text/plain": [
       "<Figure size 432x288 with 1 Axes>"
      ]
     },
     "metadata": {},
     "output_type": "display_data"
    },
    {
     "data": {
      "text/plain": [
       "<Figure size 432x288 with 0 Axes>"
      ]
     },
     "metadata": {},
     "output_type": "display_data"
    }
   ],
   "source": [
    "prange = [0, 1.3]\n",
    "bins = 10\n",
    "\n",
    "# plotting a histogram (_hist)\n",
    "plt.hist(z_cls, bins, prange, color = 'blue', histtype = 'step', rwidth = 1, density = True)\n",
    "\n",
    "\n",
    "# x-axis label\n",
    "plt.xlabel('Redshift')\n",
    "# frequency labe\n",
    "plt.ylabel('Number of Clusters')\n",
    "# plot title\n",
    "print(np.average(z_cls))\n",
    "plt.show()\n",
    "\n",
    "\n",
    "mass = data['m500']\n",
    "masse = data['m500err']\n",
    "\n",
    "\n",
    "#plt.scatter(z_cls,mass,color='G')\n",
    "#plt.scatter(x,y, z_cls, color = 'b')\n",
    "#plt.errorbar(z_cls, mass, yerr=masse, fmt = 'bo')\n",
    "#plt.xlabel('Redshift')\n",
    "#plt.ylabel('Mass')\n",
    "\n",
    "\n",
    "plt.savefig('C://Users/Janel/Desktop/Redshift_1.png')\n",
    "#plt.show()\n",
    "     #   values = lines.split(',')\n",
    "      #  print(values)"
   ]
  },
  {
   "cell_type": "code",
   "execution_count": 12,
   "metadata": {},
   "outputs": [
    {
     "name": "stdout",
     "output_type": "stream",
     "text": [
      " m500\n",
      "-----\n",
      " 4.56\n",
      " 7.08\n",
      " 5.31\n",
      " 5.31\n",
      " 4.72\n",
      " 3.91\n",
      "10.24\n",
      " 4.49\n",
      " 6.23\n",
      " 4.46\n",
      "  ...\n",
      "  5.6\n",
      " 6.17\n",
      " 6.17\n",
      "  2.7\n",
      "  2.7\n",
      " 5.59\n",
      " 3.93\n",
      "12.05\n",
      "12.05\n",
      "  3.6\n",
      "  3.6\n",
      "Length = 68 rows\n"
     ]
    },
    {
     "data": {
      "image/png": "[encoded data removed]",
      "text/plain": [
       "<Figure size 432x288 with 1 Axes>"
      ]
     },
     "metadata": {},
     "output_type": "display_data"
    }
   ],
   "source": [
    "mass = data['m500']\n",
    "masse = data['m500err']\n",
    "\n",
    "print(mass)\n",
    "plt.scatter(z_cls,mass,color='G')\n",
    "#plt.scatter(x,y, z_cls, color = 'b')\n",
    "plt.errorbar(z_cls, mass, yerr=masse, fmt = 'bo')\n",
    "plt.xlabel('Redshift')\n",
    "plt.ylabel('Mass')\n",
    "\n",
    "plt.savefig('C://Users/Janel/Desktop/Mass1_Graph.png')\n",
    "#spt is well defined in mass, high mass very rare "
   ]
  },
  {
   "cell_type": "code",
   "execution_count": 13,
   "metadata": {},
   "outputs": [],
   "source": [
    "# old code:\n",
    "# with open('C:\\\\Users\\Janel\\Desktop\\BCG-Xray_peak_separation.txt') as f: #opens seperations file \n",
    "#    sep = f.readlines() #reads into seperations file\n",
    "#    sep1 = np.array(sep)\n",
    "\n",
    "\n",
    "#put titles on the graphs *****\n",
    "#SZ is large so \n",
    "#purple in arcsec \n",
    "#correlations between orange and purple graph signify what the uncertainty\n",
    "#account for the noise of the SZ which is accounting for the \n",
    "#may want to make a cumuitive distribution for seperatoins (like in paper) and a theoretical plot like in the paper*****\n",
    "#page 18 - reread section of the paper on figures \n",
    "#most noises are gaussian \n",
    "#delta theta is sigma for our curve \n",
    "#delta theta will often be 20 arcsec \n",
    "#need to take the integral to find the probability (true probability)\n",
    "#probability density functions: divide by the total number of clusters then you get the fraction of cluster in each bin *****\n",
    "\n",
    "#new versions of graphs that are probability "
   ]
  },
  {
   "cell_type": "code",
   "execution_count": 14,
   "metadata": {},
   "outputs": [],
   "source": [
    "#make plots of the mass, mass error, and make legends, decide on how to handle ones with 2 bcgs vs redshift (do this first)\n",
    "\n",
    "#for 2 bcgs: 1). choose one thing, 2) average the positions(the coordinates) 3) average the seperations(average the offsetts) <-- talk to mike\n",
    "#the avg offset will be smaller\n",
    "#average the coordinates, and then average the seperation values \n",
    "#make new version of the plots based off of those \n",
    "#15 clusters have 2 BCGs "
   ]
  },
  {
   "cell_type": "code",
   "execution_count": null,
   "metadata": {},
   "outputs": [],
   "source": []
  }
 ],
 "metadata": {
  "kernelspec": {
   "display_name": "Python 3",
   "language": "python",
   "name": "python3"
  },
  "language_info": {
   "codemirror_mode": {
    "name": "ipython",
    "version": 3
   },
   "file_extension": ".py",
   "mimetype": "text/x-python",
   "name": "python",
   "nbconvert_exporter": "python",
   "pygments_lexer": "ipython3",
   "version": "3.6.5"
  }
 },
 "nbformat": 4,
 "nbformat_minor": 2
}
